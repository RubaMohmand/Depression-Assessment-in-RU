{
 "cells": [
  {
   "cell_type": "code",
   "execution_count": null,
   "metadata": {
    "id": "YG7CdM5ZnQS7"
   },
   "outputs": [],
   "source": [
    "import pandas as pd\n",
    "import numpy as np\n",
    "\n",
    "from sklearn.metrics import accuracy_score\n",
    "from sklearn.metrics import precision_score\n",
    "from sklearn.metrics import recall_score\n",
    "from sklearn.metrics import f1_score\n",
    "from sklearn.metrics import roc_auc_score\n",
    "from sklearn.metrics import confusion_matrix\n",
    "from sklearn.metrics import precision_recall_fscore_support\n",
    "from sklearn.model_selection import train_test_split\n",
    "\n",
    "from tensorflow import keras\n",
    "from keras.layers import LSTM, Bidirectional\n",
    "from keras.preprocessing import sequence\n",
    "from keras.models import Sequential\n",
    "from keras.layers import Dense, Dropout, Activation\n",
    "from keras.layers import Embedding\n",
    "from keras.layers import Conv1D, GlobalMaxPooling1D\n",
    "from keras.preprocessing.text import Tokenizer\n",
    "from tensorflow.python.keras          import utils\n",
    "\n",
    "from tensorflow.keras.utils import to_categorical\n",
    "from keras.layers import Flatten\n",
    "from tensorflow.keras.layers import MaxPooling1D\n",
    "\n",
    "from nltk.corpus import stopwords\n",
    "from nltk import word_tokenize\n",
    "from tensorflow.keras.optimizers import Adam\n",
    "from tensorflow.keras.callbacks import EarlyStopping\n",
    "from sklearn.preprocessing import LabelEncoder"
   ]
  },
  {
   "cell_type": "code",
   "execution_count": null,
   "metadata": {
    "id": "-6sOFEvwm2n5"
   },
   "outputs": [],
   "source": [
    "depression_data = pd.read_csv('C:/Users/rubam/OneDrive/Desktop/Semester 4/Dataset/Oversampled_Depression.csv').fillna('')\n",
    "depression_data = depression_data.astype(str)"
   ]
  },
  {
   "cell_type": "code",
   "execution_count": 2,
   "metadata": {
    "colab": {
     "base_uri": "https://localhost:8080/"
    },
    "id": "ch2hhEA2nZ_6",
    "outputId": "2fd9a64f-1e94-46ec-f34a-63a1698a59ab"
   },
   "outputs": [
    {
     "name": "stdout",
     "output_type": "stream",
     "text": [
      "(25004, 2)\n"
     ]
    }
   ],
   "source": [
    "depression_data.shape"
   ]
  },
  {
   "cell_type": "code",
   "execution_count": null,
   "metadata": {
    "id": "MBn59jHOnoT2"
   },
   "outputs": [],
   "source": [
    "x = np.array(depression_data['Text'])\n",
    "y = np.array(depression_data['Label'])\n",
    "# Initialize label encoder\n",
    "label_encoder = LabelEncoder()\n",
    "y = label_encoder.fit_transform(y)"
   ]
  },
  {
   "cell_type": "code",
   "execution_count": null,
   "metadata": {
    "id": "n97orUDznoi8"
   },
   "outputs": [],
   "source": [
    "c=0\n",
    "max_features = 50000\n",
    "maxlen = 150\n",
    "batch_size = 32\n",
    "embedding_dims = 50\n",
    "filters = 250\n",
    "kernel_size = 3\n",
    "hidden_dims = 250\n",
    "epochs = 10\n",
    "patience = 3\n",
    "learning_rate = 0.001 \n",
    "optimizer = Adam(learning_rate=learning_rate)\n",
    "P=[]\n",
    "R=[]\n",
    "F=[]"
   ]
  },
  {
   "cell_type": "code",
   "execution_count": null,
   "metadata": {
    "id": "JJQFAkA0nolQ"
   },
   "outputs": [],
   "source": [
    "# The maximum number of words to be used. (most frequent)\n",
    "MAX_NB_WORDS = 50000\n",
    "# Max number of words in each complaint.\n",
    "MAX_SEQUENCE_LENGTH = 250\n",
    "# This is fixed.\n",
    "EMBEDDING_DIM = 50\n",
    "tokenizer = Tokenizer(num_words=MAX_NB_WORDS)\n",
    "tokenizer.fit_on_texts(depression_data['Text'].values)"
   ]
  },
  {
   "cell_type": "code",
   "execution_count": null,
   "metadata": {
    "id": "QsoAOXbEney1"
   },
   "outputs": [],
   "source": [
    "X_train, X_test, y_train, y_test = train_test_split(x, y, test_size=0.33, random_state=42)\n",
    "X_train = np.array(X_train)\n",
    "y_train = np.array(y_train)\n",
    "X_test = np.array(X_test)\n",
    "y_test = np.array(y_test)"
   ]
  },
  {
   "cell_type": "code",
   "execution_count": null,
   "metadata": {
    "id": "abmAqkJd1A1E"
   },
   "outputs": [],
   "source": [
    "X_train = tokenizer.texts_to_sequences(X_train)\n",
    "X_test = tokenizer.texts_to_sequences(X_test)"
   ]
  },
  {
   "cell_type": "code",
   "execution_count": null,
   "metadata": {
    "id": "12pf9VxA1RqY"
   },
   "outputs": [],
   "source": [
    "X_train = sequence.pad_sequences(X_train, maxlen=maxlen)\n",
    "X_test = sequence.pad_sequences(X_test, maxlen=maxlen)"
   ]
  },
  {
   "cell_type": "code",
   "execution_count": 3,
   "metadata": {
    "colab": {
     "base_uri": "https://localhost:8080/"
    },
    "id": "QSLGazRD4sG5",
    "outputId": "16fc4d0c-bb92-4178-a7c9-bcc0c6644b40"
   },
   "outputs": [
    {
     "name": "stdout",
     "output_type": "stream",
     "text": [
      "[0 1 2 3]\n"
     ]
    }
   ],
   "source": [
    "print(np.unique(y_test))"
   ]
  },
  {
   "cell_type": "markdown",
   "metadata": {
    "id": "M4sQOUJte-P6"
   },
   "source": [
    "# CNN"
   ]
  },
  {
   "cell_type": "code",
   "execution_count": null,
   "metadata": {
    "colab": {
     "base_uri": "https://localhost:8080/"
    },
    "id": "T28YJPbS32cr",
    "outputId": "22da7cbe-b768-4510-8770-719dd5aa10b2"
   },
   "outputs": [
    {
     "name": "stdout",
     "output_type": "stream",
     "text": [
      "Model: \"sequential\"\n",
      "_________________________________________________________________\n",
      " Layer (type)                Output Shape              Param #   \n",
      "=================================================================\n",
      " embedding (Embedding)       (None, 150, 50)           2500000   \n",
      "                                                                 \n",
      " conv1d (Conv1D)             (None, 150, 128)          25728     \n",
      "                                                                 \n",
      " max_pooling1d (MaxPooling1D  (None, 75, 128)          0         \n",
      " )                                                               \n",
      "                                                                 \n",
      " conv1d_1 (Conv1D)           (None, 75, 64)            32832     \n",
      "                                                                 \n",
      " max_pooling1d_1 (MaxPooling  (None, 37, 64)           0         \n",
      " 1D)                                                             \n",
      "                                                                 \n",
      " conv1d_2 (Conv1D)           (None, 37, 32)            8224      \n",
      "                                                                 \n",
      " max_pooling1d_2 (MaxPooling  (None, 18, 32)           0         \n",
      " 1D)                                                             \n",
      "                                                                 \n",
      " flatten (Flatten)           (None, 576)               0         \n",
      "                                                                 \n",
      " dense (Dense)               (None, 256)               147712    \n",
      "                                                                 \n",
      " dense_1 (Dense)             (None, 1)                 257       \n",
      "                                                                 \n",
      "=================================================================\n",
      "Total params: 2,714,753\n",
      "Trainable params: 2,714,753\n",
      "Non-trainable params: 0\n",
      "_________________________________________________________________\n"
     ]
    }
   ],
   "source": [
    "import tensorflow as tf \n",
    "model = Sequential() \n",
    "model.add(Embedding(max_features, embedding_dims, input_length=maxlen))\n",
    "\n",
    "\n",
    "model.add(Conv1D(filters=128, kernel_size=4, padding='same', activation='relu'))\n",
    "model.add(MaxPooling1D(pool_size=2))\n",
    "model.add(Conv1D(filters=64, kernel_size=4, padding='same', activation='relu'))\n",
    "model.add(MaxPooling1D(pool_size=2))\n",
    "model.add(Conv1D(filters=32, kernel_size=4, padding='same', activation='relu'))\n",
    "model.add(MaxPooling1D(pool_size=2))\n",
    "model.add(Flatten())\n",
    "model.add(Dense(256, activation='relu'))\n",
    "model.add(Dense(1, activation='sigmoid'))\n",
    "model.compile(loss='binary_crossentropy', optimizer=optimizer, metrics=['accuracy'])\n",
    "early_stopping = EarlyStopping(monitor='val_loss', patience=patience)\n",
    "model.summary()"
   ]
  },
  {
   "cell_type": "code",
   "execution_count": 2,
   "metadata": {
    "colab": {
     "base_uri": "https://localhost:8080/"
    },
    "id": "jBdPutQJ1ZBe",
    "outputId": "49903666-90ee-4a3c-c48d-3184bb235db7"
   },
   "outputs": [
    {
     "name": "stdout",
     "output_type": "stream",
     "text": [
      "Epoch 1/10\n",
      "524/524 - 98s - loss: 0.2107 - accuracy: 0.8330 - val_loss: 0.4800 - val_accuracy: 0.8375 - 98s/epoch - 189ms/step\n",
      "Epoch 2/10\n",
      "524/524 - 96s - loss: 0.1728 - accuracy: 0.9243 - val_loss: 0.2348 - val_accuracy: 0.8820 - 96s/epoch - 180ms/step\n",
      "Epoch 3/10\n",
      "524/524 - 97s - loss: 0.1149 - accuracy: 0.9712 - val_loss: 0.2124 - val_accuracy: 0.8849 - 97s/epoch - 185ms/step\n",
      "Epoch 4/10\n",
      "524/524 - 98s - loss: 0.0765 - accuracy: 0.9867 - val_loss: 0.1985 - val_accuracy: 0.8795 - 98s/epoch - 192ms/step\n",
      "Epoch 5/10\n",
      "524/524 - 96s - loss: 0.0521 - accuracy: 0.9914 - val_loss: 0.1799 - val_accuracy: 0.8775 - 96s/epoch - 179ms/step\n",
      "Epoch 6/10\n",
      "524/524 - 96s - loss: 0.0396 - accuracy: 0.9956 - val_loss: 0.1482 - val_accuracy: 0.8795 - 96s/epoch - 179ms/step\n",
      "Epoch 7/10\n",
      "524/524 - 96s - loss: 0.0298 - accuracy: 0.9967 - val_loss: 0.1241 - val_accuracy: 0.8766 - 96s/epoch - 180ms/step\n",
      "Epoch 8/10\n",
      "524/524 - 96s - loss: 0.0195 - accuracy: 0.9969 - val_loss: 0.0595 - val_accuracy: 0.8725 - 96s/epoch - 179ms/step\n",
      "Epoch 9/10\n",
      "524/524 - 96s - loss: 0.0154 - accuracy: 0.9973 - val_loss: 0.0513 - val_accuracy: 0.8712 - 96s/epoch - 179ms/step\n",
      "Epoch 10/10\n",
      "524/524 - 96s - loss: 0.0236 - accuracy: 0.9972 - val_loss: 0.0500 - val_accuracy: 0.8655 - 96s/epoch - 178ms/step\n",
      "Accuracy: 86.55%\n"
     ]
    }
   ],
   "source": [
    "history = model.fit(X_train, y_train, batch_size=batch_size, epochs=epochs, validation_data=(X_test, y_test), verbose=2)\n",
    "# Getting score metrics from our model\n",
    "scores = model.evaluate(X_test, y_test, verbose=0)\n",
    "# Displays the accuracy of correct sentiment prediction over test data\n",
    "print(\"Accuracy: %.2f%%\" % (scores[1]*100))"
   ]
  },
  {
   "cell_type": "code",
   "execution_count": 4,
   "metadata": {
    "colab": {
     "base_uri": "https://localhost:8080/"
    },
    "id": "Xq2l3Bs_-Ynf",
    "outputId": "3dab7571-6238-4285-9d6c-22c7d155306d"
   },
   "outputs": [
    {
     "name": "stdout",
     "output_type": "stream",
     "text": [
      "258/258 [==============================] - 1s 3ms/step\n",
      "8252\n",
      "8252\n"
     ]
    }
   ],
   "source": [
    "CNN_test_pridict = model.predict(X_test) \n",
    "arr = []\n",
    "for i in range(len(CNN_test_pridict)):\n",
    "  if CNN_test_pridict[i]>=0.5:\n",
    "    arr.append(1)\n",
    "  else:\n",
    "    arr.append(0)\n",
    "print(len(arr))\n",
    "print(len(y_test))"
   ]
  },
  {
   "cell_type": "code",
   "execution_count": null,
   "metadata": {
    "colab": {
     "base_uri": "https://localhost:8080/"
    },
    "id": "fpdxRZwk9BtJ",
    "outputId": "6845809d-2ca7-49b4-af5b-0dff31f6c1dd"
   },
   "outputs": [
    {
     "name": "stdout",
     "output_type": "stream",
     "text": [
      "fbeta_score on Testing Data is: [0.91765622 0.63249348]\n"
     ]
    }
   ],
   "source": [
    "precision, recall, fbeta_score, support = precision_recall_fscore_support(y_test,arr)\n",
    "print (\"fbeta_score on Testing Data is:\", fbeta_score)"
   ]
  },
  {
   "cell_type": "code",
   "execution_count": 1,
   "metadata": {},
   "outputs": [
    {
     "data": {
      "image/png": "[encoded data removed]",
      "text/plain": [
       "<Figure size 640x480 with 1 Axes>"
      ]
     },
     "metadata": {},
     "output_type": "display_data"
    }
   ],
   "source": [
    "import matplotlib.pyplot as plt\n",
    "\n",
    "# Plot training & validation loss values\n",
    "plt.plot(history.history['loss'], marker='x')\n",
    "plt.plot(history.history['val_loss'], marker='o')\n",
    "plt.title('Learning Curve of CNN Model')\n",
    "plt.ylabel('Loss')\n",
    "plt.xlabel('Epochs')\n",
    "plt.legend(['Training Loss', 'Validation Loss'], loc='upper right')\n",
    "plt.show()\n"
   ]
  },
  {
   "cell_type": "code",
   "execution_count": 2,
   "metadata": {},
   "outputs": [
    {
     "name": "stdout",
     "output_type": "stream",
     "text": [
      "CNN - Classification Report:\n",
      " \t \tprecision    recall     f1-score    support\n",
      "\n",
      "           0         0.87      0.94         0.90       1264\n",
      "           1         0.90      0.80         0.85       1305\n",
      "           2         0.76      0.93         0.84       1244\n",
      "           3         0.98      0.87         0.92       1188\n",
      "\n",
      "    accuracy                                0.86       5001\n",
      "   macro avg         0.87      0.88         0.88       5001\n",
      "weighted avg         0.87      0.86         0.88       5001\n",
      "\n"
     ]
    }
   ],
   "source": [
    "import tensorflow as tf\n",
    "from sklearn.metrics import classification_report\n",
    "\n",
    "\n",
    "CNN_test_predict = model.predict(X_test)\n",
    "arr = []\n",
    "for i in range(len(CNN_test_predict)):\n",
    "    if CNN_test_predict[i] >= 0.5:\n",
    "        arr.append(1)\n",
    "    else:\n",
    "        arr.append(0)\n",
    "\n",
    "# Generate classification report\n",
    "report = classification_report(y_test, arr)\n",
    "\n",
    "# Print the classification report in the specified format\n",
    "print(\"CNN - Classification Report:\")\n",
    "print(report)\n"
   ]
  },
  {
   "cell_type": "code",
   "execution_count": 8,
   "metadata": {},
   "outputs": [
    {
     "name": "stdout",
     "output_type": "stream",
     "text": [
      "CNN Confusion Matrix Metrics:\n",
      "True Negatives for each class: {0: 1118.0, 1: 1044.0, 2: 1157.0, 3: 1033.0}\n",
      "True Positives for each class: {0: 1187.0, 1: 1045.0, 2: 1163.0, 3: 1038.0}\n",
      "False Positives for each class: {0: 87.0, 1: 416.0, 2: 35.0, 3: 704.0}\n",
      "False Negatives for each class: {0: 174.0, 1: 171.0, 2: 15.0, 3: 30.0}\n"
     ]
    }
   ],
   "source": [
    "import tensorflow as tf\n",
    "from sklearn.metrics import confusion_matrix\n",
    "\n",
    "\n",
    "CNN_test_predict = model.predict(X_test)\n",
    "arr = []\n",
    "for i in range(len(CNN_test_predict)):\n",
    "    if CNN_test_predict[i] >= 0.5:\n",
    "        arr.append(1)\n",
    "    else:\n",
    "        arr.append(0)\n",
    "\n",
    "# Generate confusion matrix\n",
    "conf_matrix = confusion_matrix(y_test, arr)\n",
    "\n",
    "# Print confusion matrix metrics in the specified format\n",
    "print(\"CNN Confusion Matrix Metrics:\")\n",
    "for i in range(conf_matrix.shape[0]):\n",
    "    print(f\"True Negatives: {conf_matrix.sum(axis=1)[i] - conf_matrix[i, i]}\")\n",
    "    print(f\"True Positives: {conf_matrix[i, i]}\")\n",
    "    print(f\"False Positives: {conf_matrix.sum(axis=0)[i] - conf_matrix[i, i]}\")\n",
    "    print(f\"False Negatives: {conf_matrix.sum() - conf_matrix.sum(axis=0)[i] - conf_matrix.sum(axis=1)[i] + conf_matrix[i, i]}\")\n",
    "    print()\n",
    "\n"
   ]
  },
  {
   "cell_type": "code",
   "execution_count": 9,
   "metadata": {},
   "outputs": [
    {
     "name": "stdout",
     "output_type": "stream",
     "text": [
      "Specificity for class 0: 0.93\n",
      "Specificity for class 1: 0.72\n",
      "Specificity for class 2: 0.97\n",
      "Specificity for class 3: 0.59\n",
      "Total Specificity: 0.80\n"
     ]
    }
   ],
   "source": [
    "# True Negatives for each class\n",
    "true_negatives = {0: 1118.0, 1: 1044.0, 2: 1157.0, 3: 1033.0}\n",
    "\n",
    "# False Positives for each class\n",
    "false_positives = {0: 87.0, 1: 416.0, 2: 35.0, 3: 704.0}\n",
    "\n",
    "# Calculate Specificity for each class\n",
    "specificity = {}\n",
    "for cls in true_negatives.keys():\n",
    "    specificity[cls] = true_negatives[cls] / (true_negatives[cls] + false_positives[cls])\n",
    "\n",
    "# Calculate weighted average of Specificity\n",
    "total_specificity = sum(specificity.values()) / len(specificity)\n",
    "# Print Specificity for each class\n",
    "for cls, spec in specificity.items():\n",
    "    print(f'Specificity for class {cls}: {spec:.2f}')\n",
    "\n",
    "# Print Total Specificity\n",
    "print(f'Total Specificity: {total_specificity:.2f}')"
   ]
  },
  {
   "cell_type": "code",
   "execution_count": 3,
   "metadata": {},
   "outputs": [
    {
     "data": {
      "image/png": "[encoded data removed]",
      "text/plain": [
       "<Figure size 640x480 with 2 Axes>"
      ]
     },
     "metadata": {},
     "output_type": "display_data"
    }
   ],
   "source": [
    "# Printing confusion matrix\n",
    "conf_matrix = confusion_matrix(y_test, arr)\n",
    "print(\"Confusion Matrix:\")\n",
    "print(conf_matrix)\n",
    "\n",
    "# Plotting confusion matrix as heatmap\n",
    "sns.heatmap(conf_matrix, annot=True, cmap='Blues', fmt='d', cbar=False,\n",
    "            xticklabels=label_encoder.classes_, yticklabels=label_encoder.classes_)\n",
    "plt.xlabel('Predicted Labels')\n",
    "plt.ylabel('True Labels')\n",
    "plt.show()"
   ]
  },
  {
   "cell_type": "markdown",
   "metadata": {
    "id": "SRpJjdLSfCiE"
   },
   "source": [
    "# LSTM"
   ]
  },
  {
   "cell_type": "code",
   "execution_count": null,
   "metadata": {
    "colab": {
     "base_uri": "https://localhost:8080/"
    },
    "id": "bkZlEkIVfEuF",
    "outputId": "212ce0e3-2591-4bf2-9db3-9c6a324d36bc"
   },
   "outputs": [
    {
     "name": "stdout",
     "output_type": "stream",
     "text": [
      "Model: \"sequential_2\"\n",
      "_________________________________________________________________\n",
      " Layer (type)                Output Shape              Param #   \n",
      "=================================================================\n",
      " embedding_2 (Embedding)     (None, 150, 50)           2500000   \n",
      "                                                                 \n",
      " lstm_2 (LSTM)               (None, 128)               91648     \n",
      "                                                                 \n",
      " dropout_1 (Dropout)         (None, 128)               0         \n",
      "                                                                 \n",
      " dense_2 (Dense)             (None, 32)                4128      \n",
      "                                                                 \n",
      " dropout_2 (Dropout)         (None, 32)                0         \n",
      "                                                                 \n",
      " dense_3 (Dense)             (None, 1)                 33        \n",
      "                                                                 \n",
      "=================================================================\n",
      "Total params: 2,595,809\n",
      "Trainable params: 2,595,809\n",
      "Non-trainable params: 0\n",
      "_________________________________________________________________\n"
     ]
    }
   ],
   "source": [
    "model = Sequential() \n",
    "model.add(Embedding(max_features, embedding_dims, input_length=maxlen))\n",
    "model.add(LSTM(128, dropout=0.2, recurrent_dropout=0.2))\n",
    "model.add(Dropout(0.2))\n",
    "model.add(Dense(32,activation='relu'))\n",
    "model.add(Dropout(0.2))\n",
    "model.add(Dense(1, activation='sigmoid'))\n",
    "model.compile(loss='binary_crossentropy', optimizer=optimizer,  metrics=['accuracy'])\n",
    "early_stopping = EarlyStopping(monitor='val_loss', patience=patience)\n",
    "model.summary()"
   ]
  },
  {
   "cell_type": "code",
   "execution_count": 4,
   "metadata": {
    "colab": {
     "base_uri": "https://localhost:8080/"
    },
    "id": "jYlvnpouhXf7",
    "outputId": "850bcdae-f760-4a0b-87df-ef29111f3d1c"
   },
   "outputs": [
    {
     "name": "stdout",
     "output_type": "stream",
     "text": [
      "Epoch 1/10\n",
      "524/524 - 113s - loss: 1.7262 - accuracy: 0.8372 - val_loss: 2.4961 - val_accuracy: 0.8842 - 113s/epoch - 467ms/step\n",
      "Epoch 2/10\n",
      "524/524 - 112s - loss: 1.5498 - accuracy: 0.9246 - val_loss: 2.1073 - val_accuracy: 0.8852 - 112s/epoch - 460ms/step\n",
      "Epoch 3/10\n",
      "524/524 - 113s - loss: 1.4015 - accuracy: 0.9575 - val_loss: 1.9779 - val_accuracy: 0.8877 - 113s/epoch - 463ms/step\n",
      "Epoch 4/10\n",
      "524/524 - 109s - loss: 0.9906 - accuracy: 0.9723 - val_loss: 1.5436 - val_accuracy: 0.8779 - 109s/epoch - 444ms/step\n",
      "Epoch 5/10\n",
      "524/524 - 110s - loss: 0.9289 - accuracy: 0.9842 - val_loss: 1.2286 - val_accuracy: 0.8836 - 110s/epoch - 449ms/step\n",
      "Epoch 6/10\n",
      "524/524 - 111s - loss: 0.8651 - accuracy: 0.9879 - val_loss: 0.9162 - val_accuracy: 0.8820 - 111s/epoch - 456ms/step\n",
      "Epoch 7/10\n",
      "524/524 - 109s - loss: 0.7390 - accuracy: 0.9903 - val_loss: 0.8117 - val_accuracy: 0.8747 - 109s/epoch - 444ms/step\n",
      "Epoch 8/10\n",
      "524/524 - 109s - loss: 0.5831 - accuracy: 0.9931 - val_loss: 0.7121 - val_accuracy: 0.8693 - 109s/epoch - 443ms/step\n",
      "Epoch 9/10\n",
      "524/524 - 108s - loss: 0.5582 - accuracy: 0.9955 - val_loss: 0.5586 - val_accuracy: 0.8725 - 108s/epoch - 441ms/step\n",
      "Epoch 10/10\n",
      "524/524 - 111s - loss: 0.5551 - accuracy: 0.9925 - val_loss: 0.5751 - val_accuracy: 0.8645 - 111s/epoch - 457ms/step\n",
      "\n",
      "Accuracy: 86.45%\n"
     ]
    }
   ],
   "source": [
    "history = model.fit(X_train, y_train, batch_size=batch_size, epochs=epochs, validation_data=(X_test, y_test), verbose=2)\n",
    "# Getting score metrics from our model\n",
    "scores = model.evaluate(X_test, y_test, verbose=0)\n",
    "# Displays the accuracy of correct sentiment prediction over test data\n",
    "print(\"Accuracy: %.2f%%\" % (scores[1]*100))"
   ]
  },
  {
   "cell_type": "code",
   "execution_count": 5,
   "metadata": {},
   "outputs": [
    {
     "name": "stdout",
     "output_type": "stream",
     "text": [
      "258/258 [==============================] - 5s 17ms/step\n",
      "8252\n",
      "8252\n"
     ]
    }
   ],
   "source": [
    "CNN_test_pridict = model.predict(X_test) \n",
    "arr = []\n",
    "for i in range(len(CNN_test_pridict)):\n",
    "  if CNN_test_pridict[i]>=0.5:\n",
    "    arr.append(1)\n",
    "  else:\n",
    "    arr.append(0)\n",
    "print(len(arr))\n",
    "print(len(y_test))"
   ]
  },
  {
   "cell_type": "code",
   "execution_count": null,
   "metadata": {},
   "outputs": [],
   "source": [
    "import tensorflow as tf\n",
    "from sklearn.metrics import classification_report\n",
    "\n",
    "# Assuming you have already trained and evaluated your model\n",
    "# X_test and y_test should be your test data and corresponding labels\n",
    "\n",
    "# Replace with your actual model.predict() call\n",
    "CNN_test_predict = model.predict(X_test)\n",
    "arr = []\n",
    "for i in range(len(CNN_test_predict)):\n",
    "    if CNN_test_predict[i] >= 0.5:\n",
    "        arr.append(1)\n",
    "    else:\n",
    "        arr.append(0)\n",
    "\n",
    "# Generate classification report\n",
    "report = classification_report(y_test, arr)\n",
    "\n",
    "# Print the classification report in the specified format\n",
    "print(\"CNN - Classification Report:\")\n",
    "print(report)\n"
   ]
  },
  {
   "cell_type": "code",
   "execution_count": 6,
   "metadata": {},
   "outputs": [
    {
     "name": "stdout",
     "output_type": "stream",
     "text": [
      "fbeta_score on Testing Data is: [0.9161087  0.64793388]\n"
     ]
    }
   ],
   "source": [
    "precision, recall, fbeta_score, support = precision_recall_fscore_support(y_test,arr)\n",
    "print (\"fbeta_score on Testing Data is:\", fbeta_score)"
   ]
  },
  {
   "cell_type": "code",
   "execution_count": 2,
   "metadata": {},
   "outputs": [
    {
     "data": {
      "image/png": "[encoded data removed]",
      "text/plain": [
       "<Figure size 640x480 with 1 Axes>"
      ]
     },
     "metadata": {},
     "output_type": "display_data"
    }
   ],
   "source": [
    "import matplotlib.pyplot as plt\n",
    "\n",
    "# Plot training & validation loss values\n",
    "plt.plot(history.history['loss'], marker='x')\n",
    "plt.plot(history.history['val_loss'], marker='o')\n",
    "plt.title('Learning Curve of LSTM Model')\n",
    "plt.ylabel('Loss')\n",
    "plt.xlabel('Epochs')\n",
    "plt.legend(['Training Loss', 'Validation Loss'], loc='upper right')\n",
    "plt.show()\n"
   ]
  },
  {
   "cell_type": "code",
   "execution_count": 5,
   "metadata": {},
   "outputs": [
    {
     "name": "stdout",
     "output_type": "stream",
     "text": [
      "lstm - Classification Report:\n",
      " \t \tprecision    recall     f1-score    support\n",
      "\n",
      "           0         0.87      0.93         0.90       1264\n",
      "           1         0.90      0.89         0.90       1305\n",
      "           2         0.76      0.93         0.84       1244\n",
      "           3         0.98      0.88         0.93       1188\n",
      "\n",
      "    accuracy                                0.86       5001\n",
      "   macro avg         0.88      0.91         0.89       5001\n",
      "weighted avg         0.88      0.88         0.89       5001\n",
      "\n"
     ]
    }
   ],
   "source": [
    "import tensorflow as tf\n",
    "from sklearn.metrics import classification_report\n",
    "\n",
    "\n",
    "LSTM_test_predict = model.predict(X_test)\n",
    "arr = []\n",
    "for i in range(len(LSTM_test_predict)):\n",
    "    if LSTM_test_predict[i] >= 0.5:\n",
    "        arr.append(1)\n",
    "    else:\n",
    "        arr.append(0)\n",
    "\n",
    "# Generate classification report\n",
    "report = classification_report(y_test, arr)\n",
    "\n",
    "# Print the classification report in the specified format\n",
    "print(\"LSTM - Classification Report:\")\n",
    "print(report)\n"
   ]
  },
  {
   "cell_type": "code",
   "execution_count": 10,
   "metadata": {},
   "outputs": [
    {
     "name": "stdout",
     "output_type": "stream",
     "text": [
      "LSTM Confusion Matrix Metrics:\n",
      "True Negatives for each class: {0: 1176.0, 1: 1161.0, 2: 1157.0, 3: 1046.0}\n",
      "True Positives for each class: {0: 1178.0, 1: 1164.0, 2: 1159.0, 3: 1025.0}\n",
      "False Positives for each class: {0: 87.0, 1: 409.0, 2: 142.0, 3: 673.0}\n",
      "False Negatives for each class: {0: 41.0, 1: 72.0, 2: 29.0, 3: 28.0}\n"
     ]
    }
   ],
   "source": [
    "import tensorflow as tf\n",
    "from sklearn.metrics import confusion_matrix\n",
    "\n",
    "LSTM_test_predict = model.predict(X_test)\n",
    "arr = []\n",
    "for i in range(len(LSTM_test_predict)):\n",
    "    if LSTM_test_predict[i] >= 0.5:\n",
    "        arr.append(1)\n",
    "    else:\n",
    "        arr.append(0)\n",
    "\n",
    "# Generate confusion matrix\n",
    "conf_matrix = confusion_matrix(y_test, arr)\n",
    "\n",
    "# Print confusion matrix metrics in the specified format\n",
    "print(\"LSTM Confusion Matrix Metrics:\")\n",
    "for i in range(conf_matrix.shape[0]):\n",
    "    print(f\"True Negatives: {conf_matrix.sum(axis=1)[i] - conf_matrix[i, i]}\")\n",
    "    print(f\"True Positives: {conf_matrix[i, i]}\")\n",
    "    print(f\"False Positives: {conf_matrix.sum(axis=0)[i] - conf_matrix[i, i]}\")\n",
    "    print(f\"False Negatives: {conf_matrix.sum() - conf_matrix.sum(axis=0)[i] - conf_matrix.sum(axis=1)[i] + conf_matrix[i, i]}\")\n",
    "    print()\n",
    "\n"
   ]
  },
  {
   "cell_type": "code",
   "execution_count": 6,
   "metadata": {},
   "outputs": [
    {
     "data": {
      "image/png": "[encoded data removed]",
      "text/plain": [
       "<Figure size 640x480 with 2 Axes>"
      ]
     },
     "metadata": {},
     "output_type": "display_data"
    }
   ],
   "source": [
    "# Printing confusion matrix\n",
    "conf_matrix = confusion_matrix(y_test, arr)\n",
    "print(\"Confusion Matrix:\")\n",
    "print(conf_matrix)\n",
    "\n",
    "# Plotting confusion matrix as heatmap\n",
    "sns.heatmap(conf_matrix, annot=True, cmap='Blues', fmt='d', cbar=False,\n",
    "            xticklabels=label_encoder.classes_, yticklabels=label_encoder.classes_)\n",
    "plt.xlabel('Predicted Labels')\n",
    "plt.ylabel('True Labels')\n",
    "plt.show()"
   ]
  },
  {
   "cell_type": "code",
   "execution_count": 11,
   "metadata": {},
   "outputs": [
    {
     "name": "stdout",
     "output_type": "stream",
     "text": [
      "Specificity for class 0: 0.93\n",
      "Specificity for class 1: 0.74\n",
      "Specificity for class 2: 0.89\n",
      "Specificity for class 3: 0.61\n",
      "Total Specificity: 0.79\n"
     ]
    }
   ],
   "source": [
    "# True Negatives for each class\n",
    "true_negatives = {0: 1176.0, 1: 1161.0, 2: 1157.0, 3: 1046.0}\n",
    "\n",
    "# False Positives for each class\n",
    "false_positives = {0: 87.0, 1: 409.0, 2: 142.0, 3: 673.0}\n",
    "\n",
    "# Calculate Specificity for each class\n",
    "specificity = {}\n",
    "for cls in true_negatives.keys():\n",
    "    specificity[cls] = true_negatives[cls] / (true_negatives[cls] + false_positives[cls])\n",
    "\n",
    "# Calculate weighted average of Specificity\n",
    "total_specificity = sum(specificity.values()) / len(specificity)\n",
    "# Print Specificity for each class\n",
    "for cls, spec in specificity.items():\n",
    "    print(f'Specificity for class {cls}: {spec:.2f}')\n",
    "\n",
    "# Print Total Specificity\n",
    "print(f'Total Specificity: {total_specificity:.2f}')"
   ]
  },
  {
   "cell_type": "code",
   "execution_count": null,
   "metadata": {},
   "outputs": [],
   "source": []
  }
 ],
 "metadata": {
  "colab": {
   "collapsed_sections": [],
   "name": "Deep_learning_Experiments.ipynb",
   "provenance": []
  },
  "kernelspec": {
   "display_name": "Python 3 (ipykernel)",
   "language": "python",
   "name": "python3"
  },
  "language_info": {
   "codemirror_mode": {
    "name": "ipython",
    "version": 3
   },
   "file_extension": ".py",
   "mimetype": "text/x-python",
   "name": "python",
   "nbconvert_exporter": "python",
   "pygments_lexer": "ipython3",
   "version": "3.11.4"
  }
 },
 "nbformat": 4,
 "nbformat_minor": 1
}
